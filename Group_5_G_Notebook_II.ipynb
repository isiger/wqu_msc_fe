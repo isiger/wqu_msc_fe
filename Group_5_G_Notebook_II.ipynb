{
  "nbformat": 4,
  "nbformat_minor": 0,
  "metadata": {
    "colab": {
      "name": "Group 5-G Notebook II.ipynb",
      "provenance": [],
      "collapsed_sections": [
        "2NBdKu9owPp9",
        "UAhe4WBApqxI",
        "qYI-Q0VSKuv9",
        "AZ9Bz5rT34hL",
        "ECPbbBvdE5gm",
        "piRnoGxyHzq8",
        "6Vsk7y1lLP5f",
        "8QE_XHPGLTB-",
        "AiC4JHvjLQHd",
        "uPwBJONPLQhC"
      ],
      "include_colab_link": true
    },
    "kernelspec": {
      "display_name": "Python 3",
      "name": "python3"
    }
  },
  "cells": [
    {
      "cell_type": "markdown",
      "metadata": {
        "id": "view-in-github",
        "colab_type": "text"
      },
      "source": [
        "<a href=\"https://colab.research.google.com/github/isiger/wqu_msc_fe/blob/main/Group_5_G_Notebook_II.ipynb\" target=\"_parent\"><img src=\"https://colab.research.google.com/assets/colab-badge.svg\" alt=\"Open In Colab\"/></a>"
      ]
    },
    {
      "cell_type": "markdown",
      "metadata": {
        "id": "GfltiigyYiNS"
      },
      "source": [
        "# Group Work Submission II"
      ]
    },
    {
      "cell_type": "markdown",
      "metadata": {
        "id": "SjhhjyRdYs60"
      },
      "source": [
        "## Environment setup"
      ]
    },
    {
      "cell_type": "code",
      "metadata": {
        "id": "N2WBmQOuWI9s"
      },
      "source": [
        "#!/usr/bin/env python\r\n",
        "# coding: utf-8"
      ],
      "execution_count": null,
      "outputs": []
    },
    {
      "cell_type": "code",
      "metadata": {
        "colab": {
          "base_uri": "https://localhost:8080/"
        },
        "id": "bYMSxeTzXxtn",
        "outputId": "8ddf32da-531c-4dea-e994-7dac491f6914"
      },
      "source": [
        "!pip install yfinance\r\n",
        "!pip install pmdarima\r\n",
        "!pip install arch\r\n",
        "!pip install statsmodels\r\n",
        "!pip install pyflux"
      ],
      "execution_count": null,
      "outputs": [
        {
          "output_type": "stream",
          "text": [
            "Collecting yfinance\n",
            "  Downloading https://files.pythonhosted.org/packages/7a/e8/b9d7104d3a4bf39924799067592d9e59119fcfc900a425a12e80a3123ec8/yfinance-0.1.55.tar.gz\n",
            "Requirement already satisfied: pandas>=0.24 in /usr/local/lib/python3.6/dist-packages (from yfinance) (1.1.5)\n",
            "Requirement already satisfied: numpy>=1.15 in /usr/local/lib/python3.6/dist-packages (from yfinance) (1.19.5)\n",
            "Requirement already satisfied: requests>=2.20 in /usr/local/lib/python3.6/dist-packages (from yfinance) (2.23.0)\n",
            "Requirement already satisfied: multitasking>=0.0.7 in /usr/local/lib/python3.6/dist-packages (from yfinance) (0.0.9)\n",
            "Collecting lxml>=4.5.1\n",
            "\u001b[?25l  Downloading https://files.pythonhosted.org/packages/bd/78/56a7c88a57d0d14945472535d0df9fb4bbad7d34ede658ec7961635c790e/lxml-4.6.2-cp36-cp36m-manylinux1_x86_64.whl (5.5MB)\n",
            "\u001b[K     |████████████████████████████████| 5.5MB 6.6MB/s \n",
            "\u001b[?25hRequirement already satisfied: pytz>=2017.2 in /usr/local/lib/python3.6/dist-packages (from pandas>=0.24->yfinance) (2018.9)\n",
            "Requirement already satisfied: python-dateutil>=2.7.3 in /usr/local/lib/python3.6/dist-packages (from pandas>=0.24->yfinance) (2.8.1)\n",
            "Requirement already satisfied: chardet<4,>=3.0.2 in /usr/local/lib/python3.6/dist-packages (from requests>=2.20->yfinance) (3.0.4)\n",
            "Requirement already satisfied: urllib3!=1.25.0,!=1.25.1,<1.26,>=1.21.1 in /usr/local/lib/python3.6/dist-packages (from requests>=2.20->yfinance) (1.24.3)\n",
            "Requirement already satisfied: idna<3,>=2.5 in /usr/local/lib/python3.6/dist-packages (from requests>=2.20->yfinance) (2.10)\n",
            "Requirement already satisfied: certifi>=2017.4.17 in /usr/local/lib/python3.6/dist-packages (from requests>=2.20->yfinance) (2020.12.5)\n",
            "Requirement already satisfied: six>=1.5 in /usr/local/lib/python3.6/dist-packages (from python-dateutil>=2.7.3->pandas>=0.24->yfinance) (1.15.0)\n",
            "Building wheels for collected packages: yfinance\n",
            "  Building wheel for yfinance (setup.py) ... \u001b[?25l\u001b[?25hdone\n",
            "  Created wheel for yfinance: filename=yfinance-0.1.55-py2.py3-none-any.whl size=22616 sha256=f5850039f83f80071a6cdf477f2d7eb8de8a167d5934023f0291ae9813b345ae\n",
            "  Stored in directory: /root/.cache/pip/wheels/04/98/cc/2702a4242d60bdc14f48b4557c427ded1fe92aedf257d4565c\n",
            "Successfully built yfinance\n",
            "Installing collected packages: lxml, yfinance\n",
            "  Found existing installation: lxml 4.2.6\n",
            "    Uninstalling lxml-4.2.6:\n",
            "      Successfully uninstalled lxml-4.2.6\n",
            "Successfully installed lxml-4.6.2 yfinance-0.1.55\n",
            "Collecting pmdarima\n",
            "\u001b[?25l  Downloading https://files.pythonhosted.org/packages/c9/d7/61af1897449638822f97c8b43ef0c2fce2ec68a6cda9a43ebbbdd12b967c/pmdarima-1.8.0-cp36-cp36m-manylinux1_x86_64.whl (1.5MB)\n",
            "\u001b[K     |████████████████████████████████| 1.5MB 4.3MB/s \n",
            "\u001b[?25hRequirement already satisfied: scikit-learn>=0.22 in /usr/local/lib/python3.6/dist-packages (from pmdarima) (0.22.2.post1)\n",
            "Requirement already satisfied: scipy>=1.3.2 in /usr/local/lib/python3.6/dist-packages (from pmdarima) (1.4.1)\n",
            "Requirement already satisfied: urllib3 in /usr/local/lib/python3.6/dist-packages (from pmdarima) (1.24.3)\n",
            "Requirement already satisfied: pandas>=0.19 in /usr/local/lib/python3.6/dist-packages (from pmdarima) (1.1.5)\n",
            "Requirement already satisfied: numpy>=1.17.3 in /usr/local/lib/python3.6/dist-packages (from pmdarima) (1.19.5)\n",
            "Collecting statsmodels!=0.12.0,>=0.11\n",
            "\u001b[?25l  Downloading https://files.pythonhosted.org/packages/be/4c/9e2435ca6645d6bafa2b51bb11f0a365b28934a2ffe9d6e339d67130926d/statsmodels-0.12.1-cp36-cp36m-manylinux1_x86_64.whl (9.5MB)\n",
            "\u001b[K     |████████████████████████████████| 9.5MB 16.9MB/s \n",
            "\u001b[?25hCollecting Cython<0.29.18,>=0.29\n",
            "\u001b[?25l  Downloading https://files.pythonhosted.org/packages/e7/d7/510ddef0248f3e1e91f9cc7e31c0f35f8954d0af92c5c3fd4c853e859ebe/Cython-0.29.17-cp36-cp36m-manylinux1_x86_64.whl (2.1MB)\n",
            "\u001b[K     |████████████████████████████████| 2.1MB 43.3MB/s \n",
            "\u001b[?25hRequirement already satisfied: joblib>=0.11 in /usr/local/lib/python3.6/dist-packages (from pmdarima) (1.0.0)\n",
            "Requirement already satisfied: setuptools!=50.0.0,>=38.6.0 in /usr/local/lib/python3.6/dist-packages (from pmdarima) (51.3.3)\n",
            "Requirement already satisfied: pytz>=2017.2 in /usr/local/lib/python3.6/dist-packages (from pandas>=0.19->pmdarima) (2018.9)\n",
            "Requirement already satisfied: python-dateutil>=2.7.3 in /usr/local/lib/python3.6/dist-packages (from pandas>=0.19->pmdarima) (2.8.1)\n",
            "Requirement already satisfied: patsy>=0.5 in /usr/local/lib/python3.6/dist-packages (from statsmodels!=0.12.0,>=0.11->pmdarima) (0.5.1)\n",
            "Requirement already satisfied: six>=1.5 in /usr/local/lib/python3.6/dist-packages (from python-dateutil>=2.7.3->pandas>=0.19->pmdarima) (1.15.0)\n",
            "Installing collected packages: statsmodels, Cython, pmdarima\n",
            "  Found existing installation: statsmodels 0.10.2\n",
            "    Uninstalling statsmodels-0.10.2:\n",
            "      Successfully uninstalled statsmodels-0.10.2\n",
            "  Found existing installation: Cython 0.29.21\n",
            "    Uninstalling Cython-0.29.21:\n",
            "      Successfully uninstalled Cython-0.29.21\n",
            "Successfully installed Cython-0.29.17 pmdarima-1.8.0 statsmodels-0.12.1\n",
            "Collecting arch\n",
            "\u001b[?25l  Downloading https://files.pythonhosted.org/packages/7f/5c/ef80e96f2cdc6c2d293b7e4688888a4428963c966fbb0c749c9078e68bb6/arch-4.15-cp36-cp36m-manylinux1_x86_64.whl (790kB)\n",
            "\u001b[K     |████████████████████████████████| 798kB 4.2MB/s \n",
            "\u001b[?25hRequirement already satisfied: numpy>=1.14 in /usr/local/lib/python3.6/dist-packages (from arch) (1.19.5)\n",
            "Requirement already satisfied: cython>=0.29.14 in /usr/local/lib/python3.6/dist-packages (from arch) (0.29.17)\n",
            "Collecting property-cached>=1.6.3\n",
            "  Downloading https://files.pythonhosted.org/packages/5c/6c/94d8e520b20a2502e508e1c558f338061cf409cbee78fd6a3a5c6ae812bd/property_cached-1.6.4-py2.py3-none-any.whl\n",
            "Requirement already satisfied: statsmodels>=0.9 in /usr/local/lib/python3.6/dist-packages (from arch) (0.12.1)\n",
            "Requirement already satisfied: scipy>=1.0.1 in /usr/local/lib/python3.6/dist-packages (from arch) (1.4.1)\n",
            "Requirement already satisfied: pandas>=0.23 in /usr/local/lib/python3.6/dist-packages (from arch) (1.1.5)\n",
            "Requirement already satisfied: patsy>=0.5 in /usr/local/lib/python3.6/dist-packages (from statsmodels>=0.9->arch) (0.5.1)\n",
            "Requirement already satisfied: pytz>=2017.2 in /usr/local/lib/python3.6/dist-packages (from pandas>=0.23->arch) (2018.9)\n",
            "Requirement already satisfied: python-dateutil>=2.7.3 in /usr/local/lib/python3.6/dist-packages (from pandas>=0.23->arch) (2.8.1)\n",
            "Requirement already satisfied: six in /usr/local/lib/python3.6/dist-packages (from patsy>=0.5->statsmodels>=0.9->arch) (1.15.0)\n",
            "Installing collected packages: property-cached, arch\n",
            "Successfully installed arch-4.15 property-cached-1.6.4\n",
            "Requirement already satisfied: statsmodels in /usr/local/lib/python3.6/dist-packages (0.12.1)\n",
            "Requirement already satisfied: patsy>=0.5 in /usr/local/lib/python3.6/dist-packages (from statsmodels) (0.5.1)\n",
            "Requirement already satisfied: numpy>=1.15 in /usr/local/lib/python3.6/dist-packages (from statsmodels) (1.19.5)\n",
            "Requirement already satisfied: scipy>=1.1 in /usr/local/lib/python3.6/dist-packages (from statsmodels) (1.4.1)\n",
            "Requirement already satisfied: pandas>=0.21 in /usr/local/lib/python3.6/dist-packages (from statsmodels) (1.1.5)\n",
            "Requirement already satisfied: six in /usr/local/lib/python3.6/dist-packages (from patsy>=0.5->statsmodels) (1.15.0)\n",
            "Requirement already satisfied: pytz>=2017.2 in /usr/local/lib/python3.6/dist-packages (from pandas>=0.21->statsmodels) (2018.9)\n",
            "Requirement already satisfied: python-dateutil>=2.7.3 in /usr/local/lib/python3.6/dist-packages (from pandas>=0.21->statsmodels) (2.8.1)\n",
            "Collecting pyflux\n",
            "\u001b[?25l  Downloading https://files.pythonhosted.org/packages/37/e2/ac8ea14d34556e83a9fe9e23ba7b02ca14951849b9637c238ca83d04ac3c/pyflux-0.4.15.tar.gz (1.3MB)\n",
            "\u001b[K     |████████████████████████████████| 1.3MB 4.1MB/s \n",
            "\u001b[?25hRequirement already satisfied: numpy in /usr/local/lib/python3.6/dist-packages (from pyflux) (1.19.5)\n",
            "Requirement already satisfied: pandas in /usr/local/lib/python3.6/dist-packages (from pyflux) (1.1.5)\n",
            "Requirement already satisfied: scipy in /usr/local/lib/python3.6/dist-packages (from pyflux) (1.4.1)\n",
            "Collecting numdifftools\n",
            "\u001b[?25l  Downloading https://files.pythonhosted.org/packages/ab/c0/b0d967160ecc8db52ae34e063937d85e8d386f140ad4826aae2086245a5e/numdifftools-0.9.39-py2.py3-none-any.whl (953kB)\n",
            "\u001b[K     |████████████████████████████████| 962kB 13.7MB/s \n",
            "\u001b[?25hRequirement already satisfied: patsy in /usr/local/lib/python3.6/dist-packages (from pyflux) (0.5.1)\n",
            "Requirement already satisfied: python-dateutil>=2.7.3 in /usr/local/lib/python3.6/dist-packages (from pandas->pyflux) (2.8.1)\n",
            "Requirement already satisfied: pytz>=2017.2 in /usr/local/lib/python3.6/dist-packages (from pandas->pyflux) (2018.9)\n",
            "Requirement already satisfied: six in /usr/local/lib/python3.6/dist-packages (from patsy->pyflux) (1.15.0)\n",
            "Building wheels for collected packages: pyflux\n"
          ],
          "name": "stdout"
        }
      ]
    },
    {
      "cell_type": "markdown",
      "metadata": {
        "id": "xvYhnW4G_cEY"
      },
      "source": [
        "### Imports"
      ]
    },
    {
      "cell_type": "code",
      "metadata": {
        "id": "bA4XLXToXaaj"
      },
      "source": [
        "import time\r\n",
        "# Data Gathering\r\n",
        "import yfinance as yf\r\n",
        "import requests\r\n",
        "import urllib.request\r\n",
        "# Data Processing\r\n",
        "import pandas as pd\r\n",
        "import numpy as np\r\n",
        "from bs4 import BeautifulSoup\r\n",
        "from pandas import datetime\r\n",
        "# Data Visualization\r\n",
        "import matplotlib.pyplot as plt\r\n",
        "# ARCH and GARCH model\r\n",
        "import pyflux as pf\r\n",
        "from arch import arch_model\r\n",
        "from arch.univariate import ConstantMean, GARCH, EGARCH, Normal,FIGARCH\r\n",
        "# Checking for stationarity\r\n",
        "from statsmodels.tsa.stattools import adfuller\r\n",
        "# Engle-Granger Cointegration\r\n",
        "from statsmodels.tsa.stattools import coint\r\n",
        "from statsmodels.tsa.vector_ar.vecm import VECM, select_order, coint_johansen\r\n",
        "\r\n",
        "from IPython.display import set_matplotlib_formats\r\n",
        "set_matplotlib_formats('pdf', 'svg')\r\n",
        "\r\n",
        "%matplotlib inline"
      ],
      "execution_count": null,
      "outputs": []
    },
    {
      "cell_type": "markdown",
      "metadata": {
        "id": "qMM1Gke4ZeIv"
      },
      "source": [
        "### 0.1 Gold Exchange Traded Fund.\r\n",
        "*SPDR Gold MiniShares* (**GLDM**)"
      ]
    },
    {
      "cell_type": "code",
      "metadata": {
        "id": "WFfRAQuXZdmQ"
      },
      "source": [
        "goldFund = 'GLDM'"
      ],
      "execution_count": null,
      "outputs": []
    },
    {
      "cell_type": "markdown",
      "metadata": {
        "id": "bfNounXJZ08d"
      },
      "source": [
        "### 0.2 Equity ETF from outside the US\r\n",
        "*Invesco India ETF* (**PIN**)"
      ]
    },
    {
      "cell_type": "code",
      "metadata": {
        "id": "e6bTkr5dZy5i"
      },
      "source": [
        "equityETF = 'PIN'"
      ],
      "execution_count": null,
      "outputs": []
    },
    {
      "cell_type": "markdown",
      "metadata": {
        "id": "3qg_hcnEa9W1"
      },
      "source": [
        "### 0.3 Bitcoin"
      ]
    },
    {
      "cell_type": "code",
      "metadata": {
        "id": "burCVnBpbC14"
      },
      "source": [
        "bitcoin = 'BTC-USD'"
      ],
      "execution_count": null,
      "outputs": []
    },
    {
      "cell_type": "markdown",
      "metadata": {
        "id": "3SstfhCDcWQO"
      },
      "source": [
        "## 1 Data Importing"
      ]
    },
    {
      "cell_type": "markdown",
      "metadata": {
        "id": "CF0fI0IuYusE"
      },
      "source": [
        "### 1.0 Import closing prices for the entire year of 2020 for  your GOLD ETF, your equity ETF, and bitcoin"
      ]
    },
    {
      "cell_type": "markdown",
      "metadata": {
        "id": "hwSCnvVTZ3rG"
      },
      "source": [
        "### 1.1 GLDM gold ETF daily closing prices from Apr to Dec 2020\r\n",
        "\r\n"
      ]
    },
    {
      "cell_type": "code",
      "metadata": {
        "id": "ijdqzPVdaD-6"
      },
      "source": [
        "tickerSymbol = goldFund\r\n",
        "tickerData = yf.Ticker(tickerSymbol)\r\n",
        "#historical prices for this ticker\r\n",
        "goldDf = tickerData.history(period='1d', start='2020-04-01', end='2020-12-31')\r\n",
        "goldDf_Q2 = tickerData.history(period='1d', start='2020-04-01', end='2020-06-30') # Q2\r\n",
        "goldDf_Q3 = tickerData.history(period='1d', start='2020-07-01', end='2020-09-30') # Q3\r\n",
        "goldDf_Q4 = tickerData.history(period='1d', start='2020-10-01', end='2020-12-31') # Q4\r\n",
        "goldextraDf = tickerData.history(period='1d', start='2020-03-01', end='2020-12-31') # March month for moving average\r\n",
        "goldDf"
      ],
      "execution_count": null,
      "outputs": []
    },
    {
      "cell_type": "markdown",
      "metadata": {
        "id": "1Nu_3kNRaS-S"
      },
      "source": [
        "### 1.2 PIN equity ETF daily closing prices for Apr to Dec 2020"
      ]
    },
    {
      "cell_type": "code",
      "metadata": {
        "id": "mGlQFvAEaVUN"
      },
      "source": [
        "tickerSymbol = equityETF\r\n",
        "tickerData = yf.Ticker(equityETF)\r\n",
        "idx = pd.date_range('2020-04-01', '2020-12-31')\r\n",
        "equityDf = tickerData.history(period='1d', start='2020-04-01', end='2020-12-31')\r\n",
        "equityDf_Q2 = tickerData.history(period='1d', start='2020-04-01', end='2020-06-30') # Q2\r\n",
        "equityDf_Q3 = tickerData.history(period='1d', start='2020-07-01', end='2020-09-30') # Q3\r\n",
        "equityDf_Q4 = tickerData.history(period='1d', start='2020-10-01', end='2020-12-31') # Q4\r\n",
        "equityextraDf = tickerData.history(period='1d', start='2020-03-01', end='2020-12-31') # March month for moving avg\r\n",
        "equityDf"
      ],
      "execution_count": null,
      "outputs": []
    },
    {
      "cell_type": "markdown",
      "metadata": {
        "id": "aYRmWODlczuF"
      },
      "source": [
        "### 1.3 Bitcoin daily closing prices from Apr to Dec 2020"
      ]
    },
    {
      "cell_type": "code",
      "metadata": {
        "id": "wkR_Oo0-dFcJ"
      },
      "source": [
        "tickerSymbol = bitcoin\r\n",
        "tickerData = yf.Ticker(bitcoin)\r\n",
        "bitcoinDf = tickerData.history(period='1d', start='2020-04-01', end='2020-12-31').reindex(index=goldDf.index)\r\n",
        "bitcoinDf_Q2 = tickerData.history(period='1d', start='2020-04-01', end='2020-06-30').reindex(index=goldDf_Q2.index) # Q2\r\n",
        "bitcoinDf_Q3 = tickerData.history(period='1d', start='2020-07-01', end='2020-09-30').reindex(index=goldDf_Q3.index) # Q3\r\n",
        "bitcoinDf_Q4 = tickerData.history(period='1d', start='2020-10-01', end='2020-12-31').reindex(index=goldDf_Q4.index) # Q4\r\n",
        "bitcoinextraDf = tickerData.history(period='1d', start='2020-03-01', end='2020-12-31').reindex(index=goldextraDf.index) # March month for moving avg\r\n",
        "bitcoinDf"
      ],
      "execution_count": null,
      "outputs": []
    },
    {
      "cell_type": "markdown",
      "metadata": {
        "id": "1dzci5W8d6QN"
      },
      "source": [
        "## 2 Data Processing"
      ]
    },
    {
      "cell_type": "markdown",
      "metadata": {
        "id": "bLWn2nzOaYTZ"
      },
      "source": [
        "### 2.1.1 Daily returns of Gold ETF"
      ]
    },
    {
      "cell_type": "code",
      "metadata": {
        "id": "N4iuswBHafKi"
      },
      "source": [
        "GoldDailyReturnsDf = goldDf['Close'].pct_change()\r\n",
        "fig = plt.figure(figsize=(12,8))\r\n",
        "ax1 = fig.add_axes([0.1,0.1,2,2])\r\n",
        "ax1.plot(GoldDailyReturnsDf)\r\n",
        "ax1.set_xlabel(\"Date\")\r\n",
        "ax1.set_ylabel(\"Percent\")\r\n",
        "ax1.set_title(\"Gold Daily returns data\") \r\n",
        "plt.show()\r\n",
        "GoldDailyReturnsDf.dropna()"
      ],
      "execution_count": null,
      "outputs": []
    },
    {
      "cell_type": "markdown",
      "metadata": {
        "id": "Y19s2vMjosOt"
      },
      "source": [
        "### 2.1.2 Daily returns of Equity ETF"
      ]
    },
    {
      "cell_type": "code",
      "metadata": {
        "id": "UrqpSPugosOu"
      },
      "source": [
        "EquityDailyReturnsDf = equityDf['Close'].pct_change()\r\n",
        "fig = plt.figure()\r\n",
        "ax1 = fig.add_axes([0.1,0.1,2,2])\r\n",
        "ax1.plot(EquityDailyReturnsDf)\r\n",
        "ax1.set_xlabel(\"Date\")\r\n",
        "ax1.set_ylabel(\"Percent\")\r\n",
        "ax1.set_title(\"Equity Daily returns data\")\r\n",
        "plt.show()\r\n",
        "EquityDailyReturnsDf.dropna()"
      ],
      "execution_count": null,
      "outputs": []
    },
    {
      "cell_type": "markdown",
      "metadata": {
        "id": "1ovPskYccMu5"
      },
      "source": [
        "### 2.1.3 Daily returns of Bitcoin"
      ]
    },
    {
      "cell_type": "code",
      "metadata": {
        "id": "epPvULGjcQz_"
      },
      "source": [
        "BitcoinDailyReturnsDf = bitcoinDf['Close'].pct_change()\r\n",
        "fig = plt.figure()\r\n",
        "ax1 = fig.add_axes([0.1,0.1,2,2])\r\n",
        "ax1.plot(BitcoinDailyReturnsDf)\r\n",
        "ax1.set_xlabel(\"Date\")\r\n",
        "ax1.set_ylabel(\"Percent\")\r\n",
        "ax1.set_title(\"Bitcoin Daily returns data\")\r\n",
        "plt.show()\r\n",
        "BitcoinDailyReturnsDf.dropna()"
      ],
      "execution_count": null,
      "outputs": []
    },
    {
      "cell_type": "markdown",
      "metadata": {
        "id": "uRkRBx93akh6"
      },
      "source": [
        "## 3 Data Summary \n"
      ]
    },
    {
      "cell_type": "markdown",
      "metadata": {
        "id": "UjHdbD2df-6l"
      },
      "source": [
        "### 3.1 Compute a 20-day moving average price of your GOLD ETF"
      ]
    },
    {
      "cell_type": "code",
      "metadata": {
        "id": "svsxt8IRgDCQ"
      },
      "source": [
        "goldCloseDf = goldextraDf['Close']\r\n",
        "goldDf['SMA_20'] = goldCloseDf.rolling(20, min_periods=1).mean()\r\n",
        "goldDf['SMA_20']"
      ],
      "execution_count": null,
      "outputs": []
    },
    {
      "cell_type": "markdown",
      "metadata": {
        "id": "qiVLmilOhO_d"
      },
      "source": [
        "### 3.2 Compute a 20-day moving average price of your EQUITY ETF"
      ]
    },
    {
      "cell_type": "code",
      "metadata": {
        "id": "Zk9Qkog1hVge"
      },
      "source": [
        "equityCloseDf = equityextraDf['Close']\r\n",
        "equityDf['SMA_20'] = equityCloseDf.rolling(20, min_periods=1).mean()\r\n",
        "equityDf['SMA_20']"
      ],
      "execution_count": null,
      "outputs": []
    },
    {
      "cell_type": "markdown",
      "metadata": {
        "id": "wC0CA3Uyhie8"
      },
      "source": [
        "### Compute a 20-day moving average price of BITCOIN"
      ]
    },
    {
      "cell_type": "code",
      "metadata": {
        "id": "yrz_hHSOhpMI"
      },
      "source": [
        "bitcoinCloseDf = bitcoinextraDf['Close']\r\n",
        "bitcoinDf['SMA_20'] = bitcoinCloseDf.rolling(20, min_periods=1).mean()\r\n",
        "bitcoinDf['SMA_20']"
      ],
      "execution_count": null,
      "outputs": []
    },
    {
      "cell_type": "markdown",
      "metadata": {
        "id": "S3gxt-fGOCMA"
      },
      "source": [
        "##4 Graphing\n",
        "\n"
      ]
    },
    {
      "cell_type": "markdown",
      "metadata": {
        "id": "gaQve4p0jAuy"
      },
      "source": [
        "## 4.1.1 Gold ETF price vs 20-DAY Moving Average"
      ]
    },
    {
      "cell_type": "code",
      "metadata": {
        "id": "rVlsCVOTjYrD"
      },
      "source": [
        "plt.figure(figsize=(12,8))\r\n",
        "plt.plot(goldDf['Close'],label = \"Close Price\")\r\n",
        "plt.plot(goldDf['SMA_20'],label = \"20-SMA\")\r\n",
        "plt.xlabel('Time')  \r\n",
        "plt.ylabel('Prices')  \r\n",
        "plt.title('Gold ETF - Prices VS SMA_20') \r\n",
        "plt.legend() \r\n",
        "plt.show()"
      ],
      "execution_count": null,
      "outputs": []
    },
    {
      "cell_type": "markdown",
      "metadata": {
        "id": "F5Wo9U6xj6NY"
      },
      "source": [
        "### 4.1.2 Equity ETF price vs 20-DAY Moving Average"
      ]
    },
    {
      "cell_type": "code",
      "metadata": {
        "id": "nt7sXg77j59A"
      },
      "source": [
        "plt.figure(figsize=(12,8))\r\n",
        "plt.plot(equityDf['Close'],label = \"Close Price\")\r\n",
        "plt.plot(equityDf['SMA_20'],label = \"20-SMA\")\r\n",
        "plt.xlabel('Time')  \r\n",
        "plt.ylabel('Prices')  \r\n",
        "plt.title('Equity ETF - Prices VS SMA_20') \r\n",
        "plt.legend() \r\n",
        "plt.show()"
      ],
      "execution_count": null,
      "outputs": []
    },
    {
      "cell_type": "markdown",
      "metadata": {
        "id": "hF_encPVj5vl"
      },
      "source": [
        "### 4.1.3 Bitcoin price vs 20-DAY Moving Average"
      ]
    },
    {
      "cell_type": "code",
      "metadata": {
        "id": "HCahlqBtkPcR"
      },
      "source": [
        "plt.figure(figsize=(12,8))\r\n",
        "plt.plot(bitcoinDf['Close'],label = \"Close Price\")\r\n",
        "plt.plot(bitcoinDf['SMA_20'],label = \"20-SMA\")\r\n",
        "plt.xlabel('Time')  \r\n",
        "plt.ylabel('Prices')  \r\n",
        "plt.title('Bitcoin ETF - Prices VS SMA_20') \r\n",
        "plt.legend() \r\n",
        "plt.show()"
      ],
      "execution_count": null,
      "outputs": []
    },
    {
      "cell_type": "markdown",
      "metadata": {
        "id": "zh6B4oQEkh8m"
      },
      "source": [
        "### 4.2 how the price series and average series intersect or not."
      ]
    },
    {
      "cell_type": "markdown",
      "metadata": {
        "id": "S4YUCvAUknXQ"
      },
      "source": [
        "### 4.3 Gold vs Equity prices"
      ]
    },
    {
      "cell_type": "code",
      "metadata": {
        "id": "-fubIoIalTeQ"
      },
      "source": [
        "\r\n",
        "fig, ax1 = plt.subplots(figsize=(12,8))\r\n",
        "\r\n",
        "color = 'tab:red'\r\n",
        "ax1.set_xlabel('Time')\r\n",
        "ax1.set_ylabel('Gold Prices', color=color)\r\n",
        "ax1.plot( goldDf['Close'], color=color)\r\n",
        "ax1.tick_params(axis='y', labelcolor=color)\r\n",
        "\r\n",
        "ax2 = ax1.twinx()  # instantiate a second axes that shares the same x-axis\r\n",
        "\r\n",
        "color = 'tab:blue'\r\n",
        "ax2.set_ylabel('Equity Prices', color=color)  # we already handled the x-label with ax1\r\n",
        "ax2.plot(equityDf['Close'], color=color)\r\n",
        "ax2.tick_params(axis='y', labelcolor=color)\r\n",
        "\r\n",
        "plt.show()"
      ],
      "execution_count": null,
      "outputs": []
    },
    {
      "cell_type": "markdown",
      "metadata": {
        "id": "VPhS-YJqmqmB"
      },
      "source": [
        "### 4.4 Gold vs Bitcoin Graphs"
      ]
    },
    {
      "cell_type": "code",
      "metadata": {
        "id": "dtUwF1PLmq8f"
      },
      "source": [
        "fig, ax1 = plt.subplots(figsize=(12,8))\r\n",
        "\r\n",
        "color = 'tab:red'\r\n",
        "ax1.set_xlabel('Time')\r\n",
        "ax1.set_ylabel('Gold Prices', color=color)\r\n",
        "ax1.plot( goldDf['Close'], color=color)\r\n",
        "ax1.tick_params(axis='y', labelcolor=color)\r\n",
        "\r\n",
        "ax2 = ax1.twinx()  # instantiate a second axes that shares the same x-axis\r\n",
        "\r\n",
        "color = 'tab:blue'\r\n",
        "ax2.set_ylabel('Bitcoin Prices', color=color)  # we already handled the x-label with ax1\r\n",
        "ax2.plot(bitcoinDf['Close'], color=color)\r\n",
        "ax2.tick_params(axis='y', labelcolor=color)\r\n",
        "\r\n",
        "plt.show()"
      ],
      "execution_count": null,
      "outputs": []
    },
    {
      "cell_type": "markdown",
      "metadata": {
        "id": "0MLz-z2Pm0T_"
      },
      "source": [
        "### 4.5 Equity vs Bitcoin Graphs\r\n"
      ]
    },
    {
      "cell_type": "code",
      "metadata": {
        "id": "rtNsS8Gim01B"
      },
      "source": [
        "fig, ax1 = plt.subplots(figsize=(12,8))\r\n",
        "\r\n",
        "color = 'tab:red'\r\n",
        "ax1.set_xlabel('Time')\r\n",
        "ax1.set_ylabel('Equity Prices', color=color)\r\n",
        "ax1.plot( equityDf['Close'], color=color)\r\n",
        "ax1.tick_params(axis='y', labelcolor=color)\r\n",
        "\r\n",
        "ax2 = ax1.twinx()  # instantiate a second axes that shares the same x-axis\r\n",
        "\r\n",
        "color = 'tab:blue'\r\n",
        "ax2.set_ylabel('Bitcoin Prices', color=color)  # we already handled the x-label with ax1\r\n",
        "ax2.plot(bitcoinDf['Close'], color=color)\r\n",
        "ax2.tick_params(axis='y', labelcolor=color)\r\n",
        "\r\n",
        "plt.show()"
      ],
      "execution_count": null,
      "outputs": []
    },
    {
      "cell_type": "markdown",
      "metadata": {
        "id": "u2nWOYEOo_on"
      },
      "source": [
        "## 5 Fitting a GARCH Model"
      ]
    },
    {
      "cell_type": "markdown",
      "metadata": {
        "id": "2NBdKu9owPp9"
      },
      "source": [
        "##5.1 Fitting GARCH(1,1) model on April-December data of GLDM\n"
      ]
    },
    {
      "cell_type": "code",
      "metadata": {
        "id": "Cs0q9lyawQaa"
      },
      "source": [
        "GoldDailyReturnsDf = goldDf['Close'].pct_change().dropna()\n",
        "train = GoldDailyReturnsDf[:165]\n",
        "test = GoldDailyReturnsDf[-25:]\n",
        "scaling_factor = 10 \n",
        "model = ConstantMean(train*scaling_factor)\n",
        "model.volatility = GARCH(1, 0, 1)\n",
        "model.distribution = Normal()\n",
        "# fit model\n",
        "model_fit = model.fit()\n",
        "model_fit.summary()"
      ],
      "execution_count": null,
      "outputs": []
    },
    {
      "cell_type": "code",
      "metadata": {
        "id": "-AiqQHg0kLmh"
      },
      "source": [
        "# forecast the test set\n",
        "prediction = pd.DataFrame(model_fit.forecast(horizon=25).variance.values[-1, :]/scaling_factor, index=test.index)\n",
        "prediction.columns = ['predicted_price']\n",
        "prediction"
      ],
      "execution_count": null,
      "outputs": []
    },
    {
      "cell_type": "code",
      "metadata": {
        "id": "g90GHKc_kMxt"
      },
      "source": [
        "plt.figure(figsize=(12,8))\n",
        "plt.plot(train,label=\"Training\")\n",
        "plt.plot(test,label=\"Test\")\n",
        "plt.plot(prediction,label=\"Predicted\")\n",
        "plt.xlabel('Time')\n",
        "plt.ylabel('Returns')\n",
        "plt.legend()\n",
        "plt.show()"
      ],
      "execution_count": null,
      "outputs": []
    },
    {
      "cell_type": "markdown",
      "metadata": {
        "id": "UAhe4WBApqxI"
      },
      "source": [
        "##5.2 Fitting GARCH-M model on April-December data of GLDM\n"
      ]
    },
    {
      "cell_type": "code",
      "metadata": {
        "id": "asCTMQdllK0g"
      },
      "source": [
        "GoldReturnsDf = goldDf['Close'].pct_change().dropna()\n",
        "train = GoldReturnsDf[:200]\n",
        "test = GoldReturnsDf[-5:]\n",
        "#scaling_factor = 100 \n",
        "# fit model\n",
        "model = arch_model(GoldReturnsDf, mean='AR',lags=1)\n",
        "model_fit = model.fit(update_freq=5)\n",
        "model_fit.summary() "
      ],
      "execution_count": null,
      "outputs": []
    },
    {
      "cell_type": "code",
      "metadata": {
        "id": "_LbQVF69pqxV"
      },
      "source": [
        "# forecast the test set\n",
        "prediction = pd.DataFrame(model_fit.forecast(horizon=5).variance.values[-1, :]*100, index=test.index)\n",
        "prediction.columns = ['predicted_price']\n",
        "prediction"
      ],
      "execution_count": null,
      "outputs": []
    },
    {
      "cell_type": "code",
      "metadata": {
        "id": "qi_2agiRpqxV"
      },
      "source": [
        "plt.figure(figsize=(12,8))\n",
        "plt.plot(train,label=\"Training\")\n",
        "plt.plot(test,label=\"Test\")\n",
        "plt.plot(prediction,label=\"Predicted\")\n",
        "plt.xlabel('Time')\n",
        "plt.ylabel('Returns')\n",
        "plt.legend()\n",
        "plt.show()"
      ],
      "execution_count": null,
      "outputs": []
    },
    {
      "cell_type": "markdown",
      "metadata": {
        "id": "qYI-Q0VSKuv9"
      },
      "source": [
        "##5.3 Fitting E-GARCH, T-GARCH, and I-GARCH model on April-December data of GLDM"
      ]
    },
    {
      "cell_type": "markdown",
      "metadata": {
        "id": "AZ9Bz5rT34hL"
      },
      "source": [
        "###5.3.1 Fitting E-GARCH model on April-December data of GLDM\n"
      ]
    },
    {
      "cell_type": "code",
      "metadata": {
        "id": "kg-rVGRF34hP"
      },
      "source": [
        "GoldDailyReturnsDf = goldDf['Close'].pct_change().dropna()\n",
        "train = GoldDailyReturnsDf[-75:]\n",
        "test = GoldDailyReturnsDf[-1:]\n",
        "scaling_factor = 100\n",
        "model = ConstantMean(train*scaling_factor)\n",
        "model.volatility = EGARCH(1, 1, 1)\n",
        "model.distribution = Normal()\n",
        "# fit model\n",
        "model_fit = model.fit()\n",
        "model_fit.summary()"
      ],
      "execution_count": null,
      "outputs": []
    },
    {
      "cell_type": "code",
      "metadata": {
        "id": "PHG7d20J34hQ"
      },
      "source": [
        "# forecast the test set\n",
        "prediction = pd.DataFrame(model_fit.forecast(horizon=1).variance.values[-1, :]/scaling_factor, index=test.index)\n",
        "prediction.columns = ['predicted_price']\n",
        "prediction"
      ],
      "execution_count": null,
      "outputs": []
    },
    {
      "cell_type": "markdown",
      "metadata": {
        "id": "ECPbbBvdE5gm"
      },
      "source": [
        "###5.3.2 Fitting T-GARCH model on April-December data of GLDM\n"
      ]
    },
    {
      "cell_type": "code",
      "metadata": {
        "id": "Ie87ibCLE5gt"
      },
      "source": [
        "GoldDailyReturnsDf = goldDf['Close'].pct_change().dropna()\n",
        "train = GoldDailyReturnsDf[-75:]\n",
        "test = GoldDailyReturnsDf[-1:]\n",
        "model = arch_model(GoldDailyReturnsDf, vol='GARCH', power=2.0, p=1, o=1, q=1)\n",
        "model_fit = model.fit(update_freq=5)\n",
        "model_fit.summary()"
      ],
      "execution_count": null,
      "outputs": []
    },
    {
      "cell_type": "code",
      "metadata": {
        "id": "u0UUhYA8E5gu"
      },
      "source": [
        "# forecast the test set\n",
        "prediction = pd.DataFrame(model_fit.forecast(horizon=1).variance.values[-1, :]*100, index=test.index)\n",
        "prediction.columns = ['predicted_price']\n",
        "prediction"
      ],
      "execution_count": null,
      "outputs": []
    },
    {
      "cell_type": "markdown",
      "metadata": {
        "id": "f5ZQ0Vcdshxr"
      },
      "source": [
        "###5.3.3 Fitting I-GARCH model on April-December data of GLDM\n"
      ]
    },
    {
      "cell_type": "code",
      "metadata": {
        "id": "oB7GAr02shxs"
      },
      "source": [
        "GoldDailyReturnsDf = goldDf['Close'].pct_change().dropna()\n",
        "train = GoldDailyReturnsDf[-75:]\n",
        "test = GoldDailyReturnsDf[-1:]\n",
        "scaling_factor = 100\n",
        "model = ConstantMean(train*scaling_factor)\n",
        "model.volatility = FIGARCH(1, 1, 1)\n",
        "model.distribution = Normal()\n",
        "# fit model\n",
        "model_fit = model.fit()\n",
        "model_fit.summary()"
      ],
      "execution_count": null,
      "outputs": []
    },
    {
      "cell_type": "code",
      "metadata": {
        "id": "uYdTLy-Cshxs"
      },
      "source": [
        "# forecast the test set\n",
        "prediction = pd.DataFrame(model_fit.forecast(horizon=1).variance.values[-1, :]/scaling_factor, index=test.index)\n",
        "prediction.columns = ['predicted_price']\n",
        "prediction"
      ],
      "execution_count": null,
      "outputs": []
    },
    {
      "cell_type": "markdown",
      "metadata": {
        "id": "uhqAtRRF-H9Z"
      },
      "source": [
        "##5.4 Long Term Variances of 5 MODELS"
      ]
    },
    {
      "cell_type": "markdown",
      "metadata": {
        "id": "piRnoGxyHzq8"
      },
      "source": [
        "###5.4.1 Long Run Variance of **GARCH** MODEL"
      ]
    },
    {
      "cell_type": "code",
      "metadata": {
        "id": "Tft7e82yLGfS"
      },
      "source": [
        "#long_run_variance = omega/(1-alpha-beta)\r\n",
        "long_run_variance = 0.0140"
      ],
      "execution_count": null,
      "outputs": []
    },
    {
      "cell_type": "markdown",
      "metadata": {
        "id": "6Vsk7y1lLP5f"
      },
      "source": [
        "###5.4.2 Long Run Variance of **GARCH-M** MODEL"
      ]
    },
    {
      "cell_type": "code",
      "metadata": {
        "id": "if3cb9wPLbh6"
      },
      "source": [
        "#long_run_variance = omega/(1-alpha-beta)\r\n",
        "long_run_variance = 0.1116"
      ],
      "execution_count": null,
      "outputs": []
    },
    {
      "cell_type": "markdown",
      "metadata": {
        "id": "8QE_XHPGLTB-"
      },
      "source": [
        "###5.4.3 Long Run Variance of **E-GARCH** MODEL"
      ]
    },
    {
      "cell_type": "code",
      "metadata": {
        "id": "MSmlrYLiLeUw"
      },
      "source": [
        "#long_run_variance = e^(omega/(1-beta))\r\n",
        "long_run_variance = 0.6151"
      ],
      "execution_count": null,
      "outputs": []
    },
    {
      "cell_type": "markdown",
      "metadata": {
        "id": "AiC4JHvjLQHd"
      },
      "source": [
        "###5.4.4 Long Run Variance of **T-GARCH** MODEL"
      ]
    },
    {
      "cell_type": "code",
      "metadata": {
        "id": "1VL-UkFDLf_a"
      },
      "source": [
        "#long_run_variance = e^(omega/(1-alpha-beta))\r\n",
        "long_run_variance = 1"
      ],
      "execution_count": null,
      "outputs": []
    },
    {
      "cell_type": "markdown",
      "metadata": {
        "id": "uPwBJONPLQhC"
      },
      "source": [
        "###5.4.5 Long Run Variance of **I-GARCH** MODEL"
      ]
    },
    {
      "cell_type": "code",
      "metadata": {
        "id": "wbBkyWjeLhg-"
      },
      "source": [
        "#long_run_variance = omega/(1-beta)\r\n",
        "long_run_variance = 0.66"
      ],
      "execution_count": null,
      "outputs": []
    },
    {
      "cell_type": "markdown",
      "metadata": {
        "id": "-m5OZTz9pFLh"
      },
      "source": [
        "# 6 Assessing stationarity"
      ]
    },
    {
      "cell_type": "markdown",
      "metadata": {
        "id": "VgmbcNtLsM4e"
      },
      "source": [
        "### The Augmented Dickey-Fuller test is a type of statistical test called a unit root test, which is used to check stationarity in data using \r\n",
        "A p-value below a threshold (such as 5% or 1%) suggests we reject the null hypothesis (stationary), otherwise a p-value above the threshold suggests we fail to reject the null hypothesis (non-stationary).\r\n",
        "\r\n",
        "- p-value > 0.05: Fail to reject the null hypothesis (H0), the data has a unit root and is non-stationary.\r\n",
        "- p-value <= 0.05: Reject the null hypothesis (H0), the data does not have a unit root and is stationary. "
      ]
    },
    {
      "cell_type": "markdown",
      "metadata": {
        "id": "ImoUZEOKp-Jc"
      },
      "source": [
        "### 6.1 Gold ETF April-December Stationary Test"
      ]
    },
    {
      "cell_type": "code",
      "metadata": {
        "id": "pJ1Rkr8LqHGt"
      },
      "source": [
        "result = adfuller(goldDf['Close'])\r\n",
        "print('ADF Statistic: %f' % result[0])\r\n",
        "print('p-value: %f' % result[1])\r\n",
        "print('Critical Values:')\r\n",
        "for key, value in result[4].items():\r\n",
        "\tprint('\\t%s: %.3f' % (key, value))"
      ],
      "execution_count": null,
      "outputs": []
    },
    {
      "cell_type": "markdown",
      "metadata": {
        "id": "CdhGonTSrKfb"
      },
      "source": [
        "Test used is Augmented Dickey-Fuller test --> It is non-stationary"
      ]
    },
    {
      "cell_type": "markdown",
      "metadata": {
        "id": "npyEcbv0rRZG"
      },
      "source": [
        "### 6.2 Equity ETF April-December Stationary Test"
      ]
    },
    {
      "cell_type": "code",
      "metadata": {
        "id": "RZwi3mRtrVvv"
      },
      "source": [
        "result = adfuller(equityDf['Close'])\r\n",
        "print('ADF Statistic: %f' % result[0])\r\n",
        "print('p-value: %f' % result[1])\r\n",
        "print('Critical Values:')\r\n",
        "for key, value in result[4].items():\r\n",
        "\tprint('\\t%s: %.3f' % (key, value))"
      ],
      "execution_count": null,
      "outputs": []
    },
    {
      "cell_type": "code",
      "metadata": {
        "id": "XEzFoeep8Xw3"
      },
      "source": [
        ""
      ],
      "execution_count": null,
      "outputs": []
    },
    {
      "cell_type": "markdown",
      "metadata": {
        "id": "ztUlpZ0yrhoz"
      },
      "source": [
        "Test used is Augmented Dickey-Fuller test --> It is non-stationary"
      ]
    },
    {
      "cell_type": "markdown",
      "metadata": {
        "id": "BppGVztzrmRE"
      },
      "source": [
        "### 6.3 Bitcoin April-December Stationary Test"
      ]
    },
    {
      "cell_type": "code",
      "metadata": {
        "id": "6FcoDoQWrrXj"
      },
      "source": [
        "result = adfuller(bitcoinDf['Close'])\r\n",
        "print('ADF Statistic: %f' % result[0])\r\n",
        "print('p-value: %f' % result[1])\r\n",
        "print('Critical Values:')\r\n",
        "for key, value in result[4].items():\r\n",
        "\tprint('\\t%s: %.3f' % (key, value))"
      ],
      "execution_count": null,
      "outputs": []
    },
    {
      "cell_type": "markdown",
      "metadata": {
        "id": "suTey7Qhr9Yh"
      },
      "source": [
        "Test used is Augmented Dickey-Fuller test --> It is non-stationary"
      ]
    },
    {
      "cell_type": "markdown",
      "metadata": {
        "id": "XXSRFuM5uBos"
      },
      "source": [
        "# 7 Modelling Cointegration"
      ]
    },
    {
      "cell_type": "markdown",
      "metadata": {
        "id": "f79Qz9-_w1VK"
      },
      "source": [
        "### 7.1 Engle-Granger Cointegration Test for Q2"
      ]
    },
    {
      "cell_type": "markdown",
      "metadata": {
        "id": "Z3Eeh7N9ySnF"
      },
      "source": [
        "Equity vs Gold"
      ]
    },
    {
      "cell_type": "code",
      "metadata": {
        "id": "D-uMYba2wyKg"
      },
      "source": [
        "coint(equityDf_Q2['Close'], goldDf_Q2['Close'])"
      ],
      "execution_count": null,
      "outputs": []
    },
    {
      "cell_type": "code",
      "metadata": {
        "id": "yvwoICvjzrmK"
      },
      "source": [
        "coint(equityDf_Q2['Close'], bitcoinDf_Q2['Close'])"
      ],
      "execution_count": null,
      "outputs": []
    },
    {
      "cell_type": "code",
      "metadata": {
        "id": "Kl8gxDR5zrwk"
      },
      "source": [
        "coint(goldDf_Q2['Close'], bitcoinDf_Q2['Close'])"
      ],
      "execution_count": null,
      "outputs": []
    },
    {
      "cell_type": "markdown",
      "metadata": {
        "id": "DQGpmsSsySMf"
      },
      "source": [
        "### 7.2 Presence of co-integrating vectors\r\n"
      ]
    },
    {
      "cell_type": "markdown",
      "metadata": {
        "id": "k20z7oQ6zJYH"
      },
      "source": [
        "### 7.3 Vector Error Correction model"
      ]
    },
    {
      "cell_type": "code",
      "metadata": {
        "id": "RpxGyPx6PlW5"
      },
      "source": [
        "\r\n",
        "df_Q2 = pd.DataFrame(index=goldDf_Q2.index, data={'gold': goldDf_Q2['Close'], 'equity': equityDf_Q2['Close'], 'bitcoin':bitcoinDf_Q2['Close']} )\r\n",
        "\r\n",
        "model = VECM(df_Q2, coint_rank=1)\r\n"
      ],
      "execution_count": null,
      "outputs": []
    },
    {
      "cell_type": "markdown",
      "metadata": {
        "id": "vy1Y29gazPqb"
      },
      "source": [
        "### 7.7 Predicting Q3 cointegration from Q2 cointegration"
      ]
    },
    {
      "cell_type": "markdown",
      "metadata": {
        "id": "tKf0WTeMzlG5"
      },
      "source": [
        "### 7.8 "
      ]
    },
    {
      "cell_type": "code",
      "metadata": {
        "id": "JBXy6PTKQ0fi"
      },
      "source": [
        "coint_johansen()"
      ],
      "execution_count": null,
      "outputs": []
    }
  ]
}